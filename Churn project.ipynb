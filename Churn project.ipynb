version https://git-lfs.github.com/spec/v1
oid sha256:d85f0b0f9d3f40ce298b97d9e3f61aa50aa9a3873ddf19d86ddf6e5b1d82a284
size 138669990
